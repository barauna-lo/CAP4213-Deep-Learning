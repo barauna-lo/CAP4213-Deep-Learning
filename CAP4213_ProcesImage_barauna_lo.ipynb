{
  "nbformat": 4,
  "nbformat_minor": 0,
  "metadata": {
    "colab": {
      "name": "CAP4213_ProcesImage-barauna_lo.ipynb",
      "provenance": [],
      "collapsed_sections": [],
      "include_colab_link": true
    },
    "kernelspec": {
      "display_name": "Python 3 (ipykernel)",
      "language": "python",
      "name": "python3"
    },
    "language_info": {
      "codemirror_mode": {
        "name": "ipython",
        "version": 3
      },
      "file_extension": ".py",
      "mimetype": "text/x-python",
      "name": "python",
      "nbconvert_exporter": "python",
      "pygments_lexer": "ipython3",
      "version": "3.8.3"
    }
  },
  "cells": [
    {
      "cell_type": "markdown",
      "metadata": {
        "id": "view-in-github",
        "colab_type": "text"
      },
      "source": [
        "<a href=\"https://colab.research.google.com/github/barauna-lo/CAP4213-Deep-Learning/blob/main/CAP4213_ProcesImage_barauna_lo.ipynb\" target=\"_parent\"><img src=\"https://colab.research.google.com/assets/colab-badge.svg\" alt=\"Open In Colab\"/></a>"
      ]
    },
    {
      "cell_type": "markdown",
      "metadata": {
        "id": "DTg4yFJJkWav"
      },
      "source": [
        "<img src=https://raw.githubusercontent.com/barauna-lo/CAP4213-Deep-Learning/main/logoinpe.png>\n",
        "\n",
        "# CAP 421-3 - Deep Learning \n",
        "## Classes 01 and 02\n",
        "### Image Processing\n",
        "\n",
        "These notebook was part of Deep-Learning course provided by the [INPE](https://www.gov.br/inpe/pt-br) (Instituto Nacional de Pesquisas Espaciais) on his firt edition for the classes \"Basics of Digital Image Processing. Convolution: Padding, Filter Dimension, Stride, Dilation.\" with Professero Tales.\n",
        "\n",
        "This code is training for learning images. ;)\n",
        "\n",
        "for: Luan Orion Baraúna\n",
        "\n",
        "[https://github.com/barauna-lo](https://github.com/barauna-lo)"
      ]
    },
    {
      "cell_type": "code",
      "metadata": {
        "id": "0ZItxWNXHZPz"
      },
      "source": [
        "#Importin the image file\n",
        "raster_filename = 'heliponto_2.tif'\n",
        "!wget https://github.com/tkorting/remote-sensing-images/raw/master/{raster_filename} "
      ],
      "execution_count": null,
      "outputs": []
    },
    {
      "cell_type": "code",
      "metadata": {
        "id": "__72GFqeHalP"
      },
      "source": [
        "#Import cv2 libary \n",
        "import cv2\n",
        "\n",
        "opencv_matrix = cv2.imread(raster_filename, cv2.IMREAD_GRAYSCALE)\n",
        "\n",
        "print(opencv_matrix.shape)\n",
        "print(type(opencv_matrix))"
      ],
      "execution_count": null,
      "outputs": []
    },
    {
      "cell_type": "code",
      "metadata": {
        "id": "l9EvsMS4IUWc"
      },
      "source": [
        "# type(opencv_matrix)"
      ],
      "execution_count": null,
      "outputs": []
    },
    {
      "cell_type": "code",
      "metadata": {
        "id": "hhQ7k9-JIC6M"
      },
      "source": [
        "try:\n",
        "  import rasteirio as rio   \n",
        "except:\n",
        "  #rasteio is not installed by \n",
        "  #!pip install rasterio\n",
        "  import rasterio as rio \n",
        "\n",
        "with rio.open(raster_filename) as rio_raster:\n",
        "  rio_matrix = rio_raster.read(1)\n",
        "\n",
        "  print(type(rio_raster))\n",
        "  print(rio_matrix.shape)\n",
        "  print(type(rio_matrix))"
      ],
      "execution_count": null,
      "outputs": []
    },
    {
      "cell_type": "code",
      "metadata": {
        "id": "qMHpMoHfKYg6"
      },
      "source": [
        "from osgeo import gdal\n",
        "\n",
        "gdal_raster = gdal.Open(raster_filename, gdal.GA_ReadOnly)\n",
        "gdal_band = gdal_raster.GetRasterBand(1)\n",
        "gdal_matrix = gdal_band.ReadAsArray()\n",
        "\n",
        "print(type(gdal_raster))\n",
        "print(gdal_matrix.shape)\n",
        "print(type(gdal_matrix)) "
      ],
      "execution_count": null,
      "outputs": []
    },
    {
      "cell_type": "code",
      "metadata": {
        "id": "Px2ZxPbHKTSt"
      },
      "source": [
        "import matplotlib.pyplot as plt\n",
        "\n",
        "plt.figure(figsize=(15, 35))\n",
        "\n",
        "plt.subplot(131)\n",
        "plt.imshow(opencv_matrix, cmap = 'gray')\n",
        "plt.title('OpenCV Matrix')\n",
        "\n",
        "plt.subplot(132)\n",
        "plt.imshow(rio_matrix, cmap = 'gray')\n",
        "plt.title('rasterio Matrix')\n",
        "\n",
        "#testing new color \n",
        "plt.subplot(133)\n",
        "plt.imshow(gdal_matrix, cmap = 'ocean')\n",
        "plt.title('GDAL Matrix')\n",
        "\n",
        "plt.show() "
      ],
      "execution_count": null,
      "outputs": []
    },
    {
      "cell_type": "code",
      "metadata": {
        "id": "dQ7xQErVLDgL"
      },
      "source": [
        "#Printing a peace of the chart\n",
        "block_matrix = rio_matrix[20:40, 15:25]\n",
        "\n",
        "plt.figure()\n",
        "plt.imshow(block_matrix, cmap = 'gray')#,vmin=0, vmax=70)\n",
        "plt.colorbar()\n",
        "plt.show()\n",
        "\n",
        "print(block_matrix)"
      ],
      "execution_count": null,
      "outputs": []
    },
    {
      "cell_type": "markdown",
      "metadata": {
        "id": "L0RmQF9xObZu"
      },
      "source": [
        "# Spatial filtering\n",
        "\n",
        "https://www.youtube.com/embed/hRtmSh2gF48?start=42\n",
        "\n",
        "<center><iframe width=\"800\" height=\"500\" src=\"https://www.youtube.com/embed/hRtmSh2gF48?start=42\" title=\"YouTube video player\" frameborder=\"0\" allow=\"accelerometer; autoplay; clipboard-write; encrypted-media; gyroscope; picture-in-picture\" allowfullscreen></iframe></center>"
      ]
    },
    {
      "cell_type": "markdown",
      "metadata": {
        "id": "1bPS-fLnMRFk"
      },
      "source": [
        "# Exercise 1\n",
        "\n",
        "Create a convolution kernel called `average_kernel` as a `numpy array` with the following parameters:\n",
        "* width: 15\n",
        "* height: 15\n",
        "* weights: all values equal to 1 / (15 * 15) or `~0.00444`\n",
        "\n",
        "then apply it to `raster_filename`.\n",
        "\n",
        "Display, using `matplotlib`, the input (`rio_matrix`) and output (`conv_matrix`) images."
      ]
    },
    {
      "cell_type": "code",
      "metadata": {
        "id": "FFQgiWyHuzhB"
      },
      "source": [
        "import numpy as np\n",
        "\n",
        "#Inicial Parametes \n",
        "width = 15\n",
        "height = 15\n",
        "weigth = 1/(15*15)\n",
        "\n",
        "color = 'gray'\n",
        "\n",
        "# Creating a midpoint\n",
        "width_mean  = int( width/2)\n",
        "height_mean = int(height/2) \n",
        "\n",
        "\n",
        "new_matrix = rio_matrix.copy() #The matrix we use subtitution \n",
        "rows   = new_matrix.shape[0]   #lent os rows\n",
        "coluns = new_matrix.shape[1]   #lent of colluns\n",
        "\n",
        "#Creating a The Avarege Kernel\n",
        "avarege_kernel = (np.ones((width,height)))*weigth #creatind a matrix with 1 ones\n",
        "  \n",
        "#Creating a Empty Matrix     \n",
        "conv_matrix=[]\n",
        "conv_matrix= np.zeros_like(new_matrix)\n",
        "\n",
        "\n",
        "for i in range(height_mean,rows-height_mean):\n",
        "    for j in range(width_mean,coluns-width_mean):\n",
        "        box_matrix = new_matrix[i-height_mean : i + height_mean +1 , \n",
        "                                j-width_mean  : j + width_mean  +1]\n",
        "        conv_matrix[i,j] = np.dot(box_matrix.flatten(),avarege_kernel.flatten())\n",
        "\n",
        "#Ploting        \n",
        "plt.figure(figsize=(15,35))\n",
        "plt.subplot(121)\n",
        "plt.imshow(rio_matrix, cmap = color)#,vmin=0, vmax=100)\n",
        "plt.title('Input')\n",
        "\n",
        "plt.subplot(122)\n",
        "plt.imshow(conv_matrix, cmap= color)\n",
        "plt.title('Filter')\n",
        "\n",
        "plt.show()\n"
      ],
      "execution_count": null,
      "outputs": []
    },
    {
      "cell_type": "markdown",
      "metadata": {
        "id": "kYwVTK94kWbB"
      },
      "source": [
        "# Exercice 1\n",
        "## No-Padding effect\n",
        "\n",
        "Here we solve the Pading problem by creating a condition for the size of the box_matrix. Unlike adding columns with zeros or ones, with this logic the kernal will not perform the multiplication with false weights. In this way, only the points that are in the vicinity of the central pixel will be taken into account. If it does not exist, it will not be taken into account.\n",
        "\n",
        "For that, I defined four functions that will delimit the existence condition and limit the box size."
      ]
    },
    {
      "cell_type": "code",
      "metadata": {
        "id": "YMCoQ1KskWbC"
      },
      "source": [
        "import numpy as np\n",
        "\n",
        "#Inicial Parametes \n",
        "width  = 15\n",
        "height = 15\n",
        "weigth = 1/(15*15)\n",
        "\n",
        "color = 'gray'\n",
        "\n",
        "# Creating a midpoint\n",
        "width_mean  = int( width/2)\n",
        "height_mean = int(height/2) \n",
        "\n",
        "new_matrix = rio_matrix.copy() #The matrix we use subtitution \n",
        "rows   = new_matrix.shape[0]   #lent os rows\n",
        "coluns = new_matrix.shape[1]   #lent of colluns\n",
        "\n",
        "#Creating a variable size for the box_matrix\n",
        "def lower_width(x):  return 0                    if x < width_mean           else x - width_mean\n",
        "def upper_width(x):  return x + width_mean +1    if x < rows-width_mean      else rows\n",
        "def lower_height(x): return 0                    if x < height_mean          else x - height_mean\n",
        "def upper_height(x): return x +height_mean +1    if x < coluns-height_mean   else coluns \n",
        "\n",
        "#Creating a Empty Matrix     \n",
        "conv_matrix=[]\n",
        "conv_matrix= np.zeros_like(new_matrix)\n",
        "\n",
        "#Defining \n",
        "for i in range(rows):\n",
        "    for j in range(coluns):\n",
        "        box_matrix = new_matrix[lower_width(i)  : upper_width(i) , \n",
        "                                lower_height(j) : upper_height(j)]\n",
        "        avarege_kernel = np.ones((box_matrix.shape[0],box_matrix.shape[1]))*weigth #creating the kernel \n",
        "        conv_matrix[i,j] =  np.dot(box_matrix.flatten(),avarege_kernel.flatten())  #alocating the conv_matrix\n",
        "\n",
        "#Plotting        \n",
        "plt.figure(figsize=(15,35))\n",
        "plt.subplot(121)\n",
        "plt.imshow(rio_matrix, cmap = color)#,vmin=0, vmax=100)\n",
        "plt.title('Input ('+str(rio_matrix.shape[0])+','+str(rio_matrix.shape[1])+')')\n",
        "\n",
        "plt.subplot(122)\n",
        "plt.imshow(conv_matrix, cmap= color)\n",
        "plt.title('No Pading ('+str(conv_matrix.shape[0])+','+str(conv_matrix.shape[1])+')')\n",
        "\n",
        "plt.show()\n"
      ],
      "execution_count": null,
      "outputs": []
    },
    {
      "cell_type": "markdown",
      "metadata": {
        "id": "1quPTs52kWbC"
      },
      "source": [
        "# Exercise 2\n",
        "Using the same convolution kernel defined in the previous exercise, apply it to `raster_filename` using a stride of 5.\n",
        "\n",
        "Display, using `matplotlib` input (`rio_matrix`) and output (`conv_matrix_stride`) images."
      ]
    },
    {
      "cell_type": "code",
      "metadata": {
        "id": "2JY0vVZZkWbD"
      },
      "source": [
        "import numpy as np\n",
        "\n",
        "#Inicial Parametes \n",
        "\n",
        "weigth = 1/(15*15)\n",
        "\n",
        "color = 'gray'\n",
        "\n",
        "#Defining the Kernel\n",
        "avarege_kernel = np.ones((15,15))*weigth\n",
        "\n",
        "kernel = avarege_kernel\n",
        "\n",
        "\n",
        "width  = kernel.shape[0]\n",
        "height = kernel.shape[1]\n",
        "\n",
        "# Creating a midpoint\n",
        "width_mean  = int( width/2)\n",
        "height_mean = int(height/2) \n",
        "\n",
        "new_matrix = rio_matrix.copy() #The matrix we use subtitution \n",
        "rows   = new_matrix.shape[0]   #lent os rows\n",
        "coluns = new_matrix.shape[1]   #lent of colluns\n",
        "\n",
        "#Creating a variable size for the box_matrix\n",
        "def lower_width(x):  return 0                    if x < width_mean           else x - width_mean\n",
        "def upper_width(x):  return x + width_mean +1    if x < rows-width_mean      else rows\n",
        "def lower_height(x): return 0                    if x < height_mean          else x - height_mean\n",
        "def upper_height(x): return x +height_mean +1    if x < coluns-height_mean   else coluns \n",
        "\n",
        "#The Stride parameter\n",
        "stride = 5\n",
        "\n",
        "ones = np.ones_like(new_matrix)\n",
        "\n",
        "#Defining \n",
        "for i in range(0,rows,stride):\n",
        "    #new_row.append(0)\n",
        "    for j in range(0,coluns,stride):\n",
        "        box_matrix = new_matrix[lower_width(i)  : upper_width(i) , \n",
        "                                lower_height(j) : upper_height(j)]\n",
        "        new_kernel_matrix =  kernel[0:box_matrix.shape[0],0:box_matrix.shape[1]]\n",
        "        ones[i,j] = np.dot (box_matrix.flatten(),new_kernel_matrix.flatten())  #alocating the conv_m\n",
        "        conv_matrix = ones[ones != 1] if stride != 1 else ones #Conditional for stride = 1\n",
        "\n",
        "#Find the new dimension         \n",
        "new_row, new_collum = [],[]\n",
        "for i in range(0,rows,stride):    new_row.append(0)\n",
        "for i in range(0,coluns,stride):  new_collum.append(0)\n",
        "new_row, new_collum = len(new_row),len(new_collum)\n",
        "\n",
        "#Reshaping for the new dimension\n",
        "conv_matrix = np.array(conv_matrix).reshape(new_row,new_collum)\n",
        "\n",
        "#Rename\n",
        "conv_matrix_stride = conv_matrix\n",
        "        \n",
        "#Ploting\n",
        "plt.figure(figsize=(15,35))\n",
        "plt.subplot(121)\n",
        "plt.imshow(rio_matrix, cmap = color)#,vmin=0, vmax=100)\n",
        "plt.title('Input')\n",
        "\n",
        "plt.subplot(122)\n",
        "plt.imshow(conv_matrix_stride, cmap= color)\n",
        "plt.title('Stride = '+str(stride))\n",
        "\n",
        "plt.show()\n",
        "\n",
        "# import time\n",
        "# start_time = time.time()\n",
        "# print(\"--- %s seconds ---\" % (time.time() - start_time))"
      ],
      "execution_count": null,
      "outputs": []
    },
    {
      "cell_type": "markdown",
      "metadata": {
        "id": "STl8_vtWkWbD"
      },
      "source": [
        "# Exercise 3\n",
        "\n",
        "Create a convolution kernel called `high_pass_kernel` as a `numpy array` with the following weights:\n",
        "\n",
        "```\n",
        "-1 -1 -1 -1 -1\n",
        " 2  2  2 -1 -1\n",
        "-1  2  2  2 -1\n",
        "-1 -1 -1  2  2\n",
        "-1 -1 -1 -1 -1\n",
        "```\n",
        "\n",
        "then apply it to `raster_filename`.\n",
        "\n",
        "Display, using `matplotlib`, the input (`rio_matrix`) image, the output (`conv_matrix`) image, and the kernel."
      ]
    },
    {
      "cell_type": "code",
      "metadata": {
        "id": "1TkY1TXukWbD"
      },
      "source": [
        "import numpy as np\n",
        "\n",
        "# Control Parameners\n",
        "#defining the kernel\n",
        "high_pass_kernel = np.array([ \n",
        "[-1, -1, -1, -1, -1],\n",
        "[ 2,  2,  2, -1, -1],\n",
        "[-1,  2,  2,  2, -1],\n",
        "[-1, -1, -1,  2,  2],\n",
        "[-1, -1, -1, -1, -1]])\n",
        "\n",
        "stride = 1\n",
        "\n",
        "color = 'gray'\n",
        "\n",
        "kernel = high_pass_kernel\n",
        "\n",
        "##############################################\n",
        "\n",
        "#Inicial Parametes \n",
        "width  = kernel.shape[0]\n",
        "height = kernel.shape[1]\n",
        "#weigth = 1/(15*15)\n",
        "\n",
        "# Creating a the size of the box\n",
        "# Creating a midpoint\n",
        "width_mean  = int( width/2)\n",
        "height_mean = int(height/2) \n",
        "\n",
        "leng = width*height            #lenth of width vector\n",
        "new_matrix = rio_matrix.copy() #The matrix we use subtitution \n",
        "rows   = new_matrix.shape[0]   #lent os rows\n",
        "coluns = new_matrix.shape[1]   #lent of colluns\n",
        "\n",
        "#Creating a variable size for the box_matrix\n",
        "def lower_width(x):  return 0 if x < width_mean else x - width_mean\n",
        "def upper_width(x):  return x + width_mean +1 if x < rows-width_mean else rows\n",
        "def lower_height(x): return 0 if x < height_mean else x - height_mean\n",
        "def upper_height(x): return x +height_mean +1 if x < coluns-height_mean else coluns \n",
        "    \n",
        "ones = np.zeros_like(new_matrix)\n",
        "\n",
        "#Defining \n",
        "for i in range(0,rows,stride):\n",
        "    #new_row.append(0)\n",
        "    for j in range(0,coluns,stride):\n",
        "        box_matrix = new_matrix[lower_width(i)  : upper_width(i) , \n",
        "                                lower_height(j) : upper_height(j)]\n",
        "        #avarege_kernel          = np.ones((box_matrix.shape[0],box_matrix.shape[1]))*weigth #creating the kernel \n",
        "        new_kernel_matrix =  kernel[0:box_matrix.shape[0],0:box_matrix.shape[1]]\n",
        "        ones[i,j] =  np.dot(box_matrix.flatten(),new_kernel_matrix.flatten())\n",
        "        conv_matrix = ones#[ones != 1]\n",
        "\n",
        "#Find the new dimension         \n",
        "new_row =[]\n",
        "for i in range(0,rows,stride):  new_row.append(0)\n",
        "new_row = len(new_row)\n",
        "\n",
        "new_collum = []\n",
        "for i in range(0,coluns,stride):  new_collum.append(0)\n",
        "new_collum = len(new_collum)\n",
        "\n",
        "#Reshaping for the new dimension\n",
        "conv_matrix = np.array(conv_matrix).reshape(new_row,new_collum)\n",
        "\n",
        "\n",
        "#Ploting\n",
        "plt.figure(figsize=(15,30))\n",
        "plt.subplot(131)\n",
        "plt.imshow(rio_matrix, cmap = color)#,vmin=0, vmax=100)\n",
        "plt.title('Input')\n",
        "\n",
        "plt.subplot(132)\n",
        "plt.imshow(conv_matrix, cmap= color)\n",
        "plt.title('Output')\n",
        "\n",
        "plt.subplot(133)\n",
        "plt.imshow(high_pass_kernel, cmap = color)#,vmin=0, vmax=100)\n",
        "plt.title('High Pass Kernel')\n",
        "\n",
        "plt.show()\n"
      ],
      "execution_count": null,
      "outputs": []
    },
    {
      "cell_type": "markdown",
      "metadata": {
        "id": "snOpbeZYkWbE"
      },
      "source": [
        "# Exercise 4\n",
        "\n",
        "Apply a $3 \\times 3$ kernel filled with 1's, with two different operations: the first with dilation, and the second with erosion.\n",
        "\n",
        "Display, using `matplotlib` input (`rio_matrix`) and output (`dilation_matrix` and `erosion_matrix`) images."
      ]
    },
    {
      "cell_type": "code",
      "metadata": {
        "id": "jVztPTPEkWbF"
      },
      "source": [
        "k = 0\n",
        "for i in range (0,10,2):\n",
        "    k = k+i\n",
        "k"
      ],
      "execution_count": null,
      "outputs": []
    },
    {
      "cell_type": "code",
      "metadata": {
        "id": "oCU_EZ0vkWbF"
      },
      "source": [
        "import numpy as np\n",
        "\n",
        "# Control Parameners\n",
        "#defining the kernel\n",
        "dilatarion_matrix = np.array([ \n",
        "[0, 1, 0],\n",
        "[1, 1, 1],\n",
        "[0, 1, 0]])\n",
        "\n",
        "erosion_matrix = np.array([ \n",
        "[1, 1, 1],\n",
        "[0, 0, 0],\n",
        "[0, 0, 0],\n",
        "])\n",
        "\n",
        "one_kernels = np.ones((3,3))\n",
        "\n",
        "stride = 1\n",
        "\n",
        "color = 'gray'\n",
        "\n",
        "kernel = dilatarion_matrix/len(dilatarion_matrix)\n",
        "\n",
        "##############################################\n",
        "\n",
        "#Inicial Parametes \n",
        "width  = kernel.shape[0]\n",
        "height = kernel.shape[1]\n",
        "weigth = 1/(15*15)\n",
        "\n",
        "# Creating a the size of the box\n",
        "width_mean  = int( width/2)\n",
        "height_mean = int(height/2) \n",
        "\n",
        "#Matrix for substituition\n",
        "new_matrix  = rio_matrix.copy() \n",
        "\n",
        "leng        = width*height #lenth of width vector\n",
        "rows        = new_matrix.shape[0] #lent os rows\n",
        "coluns      = new_matrix.shape[1] #lent of colluns\n",
        "\n",
        "#Creating a variable size for the box_matrix\n",
        "def lower_width(x):  return 0 if x < width_mean else x - width_mean\n",
        "def upper_width(x):  return x + width_mean +1 if x < rows-width_mean else rows\n",
        "def lower_height(x): return 0 if x < height_mean else x - height_mean\n",
        "def upper_height(x): return x +height_mean +1 if x < coluns-height_mean else coluns \n",
        "\n",
        "#Creating a \"empyty matrix\"\n",
        "conv_matrix = []\n",
        "conv_matrix = np.zeros_like(new_matrix)\n",
        "\n",
        "#Defining \n",
        "for i in range(0,rows,stride):\n",
        "    for j in range(0,coluns,stride):\n",
        "        box_matrix = new_matrix[lower_width(i)  : upper_width(i) , \n",
        "                                lower_height(j) : upper_height(j)]\n",
        "        new_kernel_matrix =  kernel[0:box_matrix.shape[0],0:box_matrix.shape[1]]\n",
        "        conv_matrix[i,j] =  np.dot(box_matrix.flatten(),new_kernel_matrix.flatten())\n",
        "\n",
        "##################\n",
        "\n",
        "kernel = erosion_matrix/len(erosion_matrix)\n",
        "#Creating a \"empyty matrix\"\n",
        "conv_matrix2 = []\n",
        "conv_matrix2 = np.zeros_like(new_matrix)\n",
        "#Second Kernel        \n",
        "for i in range(0,rows,stride):\n",
        "    for j in range(0,coluns,stride):\n",
        "        box_matrix = new_matrix[lower_width(i)  : upper_width(i) , \n",
        "                                lower_height(j) : upper_height(j)]\n",
        "        new_kernel_matrix =  kernel[0:box_matrix.shape[0],0:box_matrix.shape[1]]\n",
        "        conv_matrix2[i,j] =  np.dot(box_matrix.flatten(),new_kernel_matrix.flatten())\n",
        "\n",
        "#Ploting\n",
        "plt.figure(figsize=(15,35))\n",
        "plt.subplot(131)\n",
        "plt.imshow(rio_matrix, cmap = color)#,vmin=0, vmax=100)\n",
        "plt.title('Input')\n",
        "\n",
        "plt.subplot(132)\n",
        "plt.imshow(conv_matrix, cmap= color)\n",
        "plt.title('Dilatation')\n",
        "\n",
        "plt.subplot(133)\n",
        "plt.imshow(conv_matrix2, cmap= color)\n",
        "plt.title('Erosion')\n",
        "\n",
        "plt.show()\n"
      ],
      "execution_count": null,
      "outputs": []
    },
    {
      "cell_type": "code",
      "metadata": {
        "id": "mwXo_7ldkWbG"
      },
      "source": [
        "dilatarion_matrix*weigth"
      ],
      "execution_count": null,
      "outputs": []
    },
    {
      "cell_type": "markdown",
      "metadata": {
        "id": "q4HuGcdikWbG"
      },
      "source": [
        "# BONUS\n",
        "\n",
        "Here a will test some filters finded in [wikipedia.org/Kernel_(image_processing)](https://en.wikipedia.org/wiki/Kernel_(image_processing))"
      ]
    },
    {
      "cell_type": "code",
      "metadata": {
        "id": "8q1SvS-FkWbH"
      },
      "source": [
        "import numpy as np\n",
        "\n",
        "Identiy = np.array([ \n",
        "[0, 0, 0],\n",
        "[0, 1, 0],\n",
        "[0, 0, 0]])\n",
        "\n",
        "Edge_detection1 = np.array([ \n",
        "[1, 0, -1],\n",
        "[0, 0, 0],\n",
        "[-1, 0, 1],\n",
        "])\n",
        "\n",
        "Edge_detection2 = np.array([ \n",
        "[0, -1, 0],\n",
        "[-1, 4, -1],\n",
        "[0, -1, 0],\n",
        "])\n",
        "\n",
        "Edge_detection3 = np.array([ \n",
        "[-1, -1, -1],\n",
        "[-1, 8, -1],\n",
        "[-1, -1, -1],\n",
        "])\n",
        "\n",
        "Sharpen = np.array([ \n",
        "[0 , -1, 0],\n",
        "[-1, 5, -1],\n",
        "[0 , -1, 0],\n",
        "])\n",
        "\n",
        "Box_blur = (np.array([ \n",
        "[0 , -1, 0],\n",
        "[-1, 5, -1],\n",
        "[0 , -1, 0],\n",
        "]))/9\n",
        "\n",
        "Gaussian_blur3x3 = (np.array([ \n",
        "[1 , 2, 1],\n",
        "[2, 4, 2],\n",
        "[1 , 2, 1],\n",
        "]))/16\n",
        "\n",
        "Gaussian_blur5x5 = (np.array([ \n",
        "[1,4,6,4,1],\n",
        "[4,16,24,16,4],\n",
        "[6,24,36,24,6],\n",
        "[4,16,24,16,4],\n",
        "[1,4,5,4,1]]))/256\n",
        "\n",
        "filters = [\n",
        "Identiy,\n",
        "Edge_detection1,\n",
        "Edge_detection2,\n",
        "Edge_detection3,\n",
        "Sharpen,\n",
        "Box_blur,\n",
        "Gaussian_blur3x3,\n",
        "Gaussian_blur5x5,\n",
        "] \n",
        "\n",
        "filters_title = [\n",
        "'Identiy',\n",
        "'Edge Detection1',\n",
        "'Edge Detection2',\n",
        "'Edge Detection3',\n",
        "'Sharpen',\n",
        "'Box Blur',\n",
        "'Gaussian Blur3x3',\n",
        "'Gaussian Blur5x5',\n",
        "] "
      ],
      "execution_count": null,
      "outputs": []
    },
    {
      "cell_type": "code",
      "metadata": {
        "id": "PPBY-d1zkWbH"
      },
      "source": [
        "# THE CONV_MARIX FUNCTION\n",
        "def conv_matrix(stride,kernel):\n",
        "    kernel = kernel/len(kernel)\n",
        "    #Inicial Parametes \n",
        "    width  = kernel.shape[0]\n",
        "    height = kernel.shape[1]\n",
        "    weigth = 1/(15*15)\n",
        "\n",
        "    # Creating a the size of the box\n",
        "    width_mean  = int( width/2)\n",
        "    height_mean = int(height/2) \n",
        "\n",
        "    #Matrix for substituition\n",
        "    new_matrix  = rio_matrix.copy() \n",
        "\n",
        "    leng        = width*height #lenth of width vector\n",
        "    rows        = new_matrix.shape[0] #lent os rows\n",
        "    coluns      = new_matrix.shape[1] #lent of colluns\n",
        "\n",
        "    #Creating a variable size for the box_matrix\n",
        "    def lower_width(x):  return 0 if x < width_mean else x - width_mean\n",
        "    def upper_width(x):  return x + width_mean +1 if x < rows-width_mean else rows\n",
        "    def lower_height(x): return 0 if x < height_mean else x - height_mean\n",
        "    def upper_height(x): return x +height_mean +1 if x < coluns-height_mean else coluns \n",
        "\n",
        "    #Creating a \"empyty matrix\"\n",
        "    #conv_matrix = []\n",
        "    imput = np.ones_like(new_matrix)\n",
        "\n",
        "    #Defining \n",
        "    for i in range(0,rows,stride):\n",
        "        for j in range(0,coluns,stride):\n",
        "            box_matrix = new_matrix[lower_width(i)  : upper_width(i) , \n",
        "                                    lower_height(j) : upper_height(j)]\n",
        "            new_kernel_matrix =  kernel[0:box_matrix.shape[0],0:box_matrix.shape[1]]\n",
        "            imput[i,j] =  np.dot(box_matrix.flatten(),new_kernel_matrix.flatten())\n",
        "            conv_matrix = imput#[imput != 1]\n",
        "    new_row =[]\n",
        "    for i in range(0,rows,stride):  new_row.append(0)\n",
        "    new_row = len(new_row)\n",
        "\n",
        "    new_collum = []\n",
        "    for i in range(0,coluns,stride):  new_collum.append(0)\n",
        "    new_collum = len(new_collum)\n",
        "\n",
        "    #Reshaping for the new dimension\n",
        "    conv_matrix = np.array(conv_matrix).reshape(new_row,new_collum)\n",
        "    \n",
        "    \n",
        "    \n",
        "    \n",
        "    return conv_matrix\n",
        "    \n",
        "    \n",
        "\n",
        "\n",
        "# ones = np.ones_like(new_matrix)\n",
        "\n",
        "# #Defining \n",
        "# for i in range(0,rows,stride):\n",
        "#     #new_row.append(0)\n",
        "#     for j in range(0,coluns,stride):\n",
        "#         box_matrix = new_matrix[lower_width(i)  : upper_width(i) , \n",
        "#                                 lower_height(j) : upper_height(j)]\n",
        "#         avarege_kernel          = np.ones((box_matrix.shape[0],box_matrix.shape[1]))*weigth #creating the kernel \n",
        "#         ones[i,j] = np.dot (box_matrix.flatten(),avarege_kernel.flatten())  #alocating the conv_m\n",
        "#         conv_matrix_stride = ones[ones != 1]\n",
        "\n",
        "# #Find the new dimension         \n",
        "# new_row =[]\n",
        "# for i in range(0,rows,stride):  new_row.append(0)\n",
        "# new_row = len(new_row)\n",
        "\n",
        "# new_collum = []\n",
        "# for i in range(0,coluns,stride):  new_collum.append(0)\n",
        "# new_collum = len(new_collum)\n",
        "\n",
        "# #Reshaping for the new dimension\n",
        "# conv_matrix_stride = np.array(conv_matrix_stride).reshape(new_row,new_collum)\n"
      ],
      "execution_count": null,
      "outputs": []
    },
    {
      "cell_type": "code",
      "metadata": {
        "id": "Z4pneZTfkWbI"
      },
      "source": [
        "plt.subplot(4,2,i+1)\n",
        "plt.imshow(conv_matrix(5,filters[i]), cmap = 'gray')#,vmin=0, vmax=100)\n",
        "plt.title(str(filters_title[i]))\n",
        "plt.show()"
      ],
      "execution_count": null,
      "outputs": []
    },
    {
      "cell_type": "code",
      "metadata": {
        "id": "n5CrCnCIkWbI"
      },
      "source": [
        "#conv_matrix(1,one_kernels)\n",
        "plt.figure(figsize=(15,35))\n",
        "for i in range(len(filters)):\n",
        "    plt.subplot(4,2,i+1)\n",
        "    plt.imshow(conv_matrix(1,filters[i]), cmap = 'gray')#,vmin=0, vmax=100)\n",
        "    plt.title(str(filters_title[i]))\n",
        "plt.show()"
      ],
      "execution_count": null,
      "outputs": []
    },
    {
      "cell_type": "code",
      "metadata": {
        "id": "Ru16-thDkWbI"
      },
      "source": [
        ""
      ],
      "execution_count": null,
      "outputs": []
    }
  ]
}